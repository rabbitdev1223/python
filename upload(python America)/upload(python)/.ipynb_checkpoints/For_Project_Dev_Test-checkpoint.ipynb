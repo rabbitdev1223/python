{
 "cells": [
  {
   "cell_type": "code",
   "execution_count": 1,
   "id": "df3b6ad2",
   "metadata": {},
   "outputs": [
    {
     "ename": "ModuleNotFoundError",
     "evalue": "No module named 'seaborn'",
     "output_type": "error",
     "traceback": [
      "\u001b[1;31m---------------------------------------------------------------------------\u001b[0m",
      "\u001b[1;31mModuleNotFoundError\u001b[0m                       Traceback (most recent call last)",
      "\u001b[1;32m~\\AppData\\Local\\Temp/ipykernel_13388/513339444.py\u001b[0m in \u001b[0;36m<module>\u001b[1;34m\u001b[0m\n\u001b[0;32m      1\u001b[0m \u001b[1;32mimport\u001b[0m \u001b[0mpandas\u001b[0m \u001b[1;32mas\u001b[0m \u001b[0mpd\u001b[0m\u001b[1;33m\u001b[0m\u001b[1;33m\u001b[0m\u001b[0m\n\u001b[0;32m      2\u001b[0m \u001b[1;32mimport\u001b[0m \u001b[0mmatplotlib\u001b[0m\u001b[1;33m.\u001b[0m\u001b[0mpyplot\u001b[0m \u001b[1;32mas\u001b[0m \u001b[0mplt\u001b[0m\u001b[1;33m\u001b[0m\u001b[1;33m\u001b[0m\u001b[0m\n\u001b[1;32m----> 3\u001b[1;33m \u001b[1;32mimport\u001b[0m \u001b[0mseaborn\u001b[0m \u001b[1;32mas\u001b[0m \u001b[0msns\u001b[0m\u001b[1;33m\u001b[0m\u001b[1;33m\u001b[0m\u001b[0m\n\u001b[0m\u001b[0;32m      4\u001b[0m \u001b[1;32mfrom\u001b[0m \u001b[0mIPython\u001b[0m\u001b[1;33m.\u001b[0m\u001b[0mdisplay\u001b[0m \u001b[1;32mimport\u001b[0m \u001b[0mImage\u001b[0m\u001b[1;33m\u001b[0m\u001b[1;33m\u001b[0m\u001b[0m\n\u001b[0;32m      5\u001b[0m \u001b[1;32mimport\u001b[0m \u001b[0mos\u001b[0m\u001b[1;33m\u001b[0m\u001b[1;33m\u001b[0m\u001b[0m\n",
      "\u001b[1;31mModuleNotFoundError\u001b[0m: No module named 'seaborn'"
     ]
    }
   ],
   "source": [
    "import pandas as pd\n",
    "import matplotlib.pyplot as plt\n",
    "import seaborn as sns\n",
    "from IPython.display import Image\n",
    "import os"
   ]
  },
  {
   "cell_type": "code",
   "execution_count": null,
   "id": "0857acd9",
   "metadata": {},
   "outputs": [],
   "source": [
    "# dataset creation\n",
    "raw_data = {\n",
    "            'Column_1': [42, 39, 86, 15, 23, 57, 68, 81, 86],\n",
    "            }\n",
    "\n",
    "df = pd.DataFrame(raw_data,\n",
    "                  index=pd.Index(['row_1', 'row_2', 'row_3', 'row_4', 'row_5', 'row_6', 'row_7', 'row_8', 'row_9']),)\n",
    "                  #columns=pd.Index(['Column_1'], name='animals'))\n",
    "df.to_csv('DataTest.csv')\n"
   ]
  },
  {
   "cell_type": "code",
   "execution_count": 3,
   "id": "9ffaa0fb",
   "metadata": {},
   "outputs": [],
   "source": [
    "def Function1():\n",
    "    # load dataset\n",
    "    if os.path.isfile('DataTest.xlsx') == True:\n",
    "        data = pd.read_excel('DataTest.xlsx', index_col=0)\n",
    "    elif os.path.isfile('DataTest.csv') == True:\n",
    "        data = pd.read_csv('DataTest.csv')\n",
    "    else:\n",
    "        print ('data file is of unknown file format')\n",
    "    # Generate dimension and review with boxplot\n",
    "    data['Self'] = data.Column_1\n",
    "    data.to_csv('Function1Output.csv')\n",
    "    data.boxplot(by='Self', layout = (2,9),figsize=(15,10))\n",
    "    plt.savefig('figure_1.png')"
   ]
  },
  {
   "cell_type": "code",
   "execution_count": 4,
   "id": "a11489ed",
   "metadata": {},
   "outputs": [],
   "source": [
    "def Function2():\n",
    "    # load dataset\n",
    "    if os.path.isfile('DataTest.xlsx') == True:\n",
    "        data = pd.read_excel('DataTest.xlsx', index_col=0)\n",
    "    elif os.path.isfile('DataTest.csv') == True:\n",
    "        data = pd.read_csv('DataTest.csv')\n",
    "    else:\n",
    "        print ('data file is of unknown file format')\n",
    "    # Generate dimension and review with boxplot\n",
    "    data['Square'] = data.Column_1 ** 2\n",
    "    data.to_csv('Function2Output.csv')\n",
    "    data.boxplot(by='Square', layout = (2,9),figsize=(15,10))\n",
    "    plt.savefig('figure_2.png')"
   ]
  },
  {
   "cell_type": "code",
   "execution_count": 5,
   "id": "fc0414cf",
   "metadata": {},
   "outputs": [],
   "source": [
    "def Function3():\n",
    "    # load dataset\n",
    "    if os.path.isfile('DataTest.xlsx') == True:\n",
    "        data = pd.read_excel('DataTest.xlsx', index_col=0)\n",
    "    elif os.path.isfile('DataTest.csv') == True:\n",
    "        data = pd.read_csv('DataTest.csv')\n",
    "    else:\n",
    "        print ('data file is of unknown file format')\n",
    "    # Generate dimension and review with boxplot\n",
    "    data['Cube'] = data.Column_1 ** 2\n",
    "    data.to_csv('Function3Output.csv')\n",
    "    data.boxplot(by='Cube', layout = (2,9),figsize=(15,10))\n",
    "    plt.savefig('figure_3.png')"
   ]
  },
  {
   "cell_type": "code",
   "execution_count": 6,
   "id": "e68aa7cb",
   "metadata": {},
   "outputs": [
    {
     "data": {
      "image/png": "[encoded data removed]",
      "text/plain": [
       "<Figure size 1080x720 with 18 Axes>"
      ]
     },
     "metadata": {
      "needs_background": "light"
     },
     "output_type": "display_data"
    }
   ],
   "source": [
    "Function2()"
   ]
  },
  {
   "cell_type": "code",
   "execution_count": null,
   "id": "0c0153fb",
   "metadata": {},
   "outputs": [],
   "source": []
  }
 ],
 "metadata": {
  "kernelspec": {
   "display_name": "Python 3 (ipykernel)",
   "language": "python",
   "name": "python3"
  },
  "language_info": {
   "codemirror_mode": {
    "name": "ipython",
    "version": 3
   },
   "file_extension": ".py",
   "mimetype": "text/x-python",
   "name": "python",
   "nbconvert_exporter": "python",
   "pygments_lexer": "ipython3",
   "version": "3.9.5"
  },
  "toc": {
   "base_numbering": 1,
   "nav_menu": {},
   "number_sections": true,
   "sideBar": true,
   "skip_h1_title": false,
   "title_cell": "Table of Contents",
   "title_sidebar": "Contents",
   "toc_cell": false,
   "toc_position": {},
   "toc_section_display": true,
   "toc_window_display": false
  },
  "varInspector": {
   "cols": {
    "lenName": 16,
    "lenType": 16,
    "lenVar": 40
   },
   "kernels_config": {
    "python": {
     "delete_cmd_postfix": "",
     "delete_cmd_prefix": "del ",
     "library": "var_list.py",
     "varRefreshCmd": "print(var_dic_list())"
    },
    "r": {
     "delete_cmd_postfix": ") ",
     "delete_cmd_prefix": "rm(",
     "library": "var_list.r",
     "varRefreshCmd": "cat(var_dic_list()) "
    }
   },
   "types_to_exclude": [
    "module",
    "function",
    "builtin_function_or_method",
    "instance",
    "_Feature"
   ],
   "window_display": false
  }
 },
 "nbformat": 4,
 "nbformat_minor": 5
}
